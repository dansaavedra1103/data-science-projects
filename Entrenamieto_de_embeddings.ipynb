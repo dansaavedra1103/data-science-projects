{
  "nbformat": 4,
  "nbformat_minor": 0,
  "metadata": {
    "colab": {
      "provenance": [],
      "include_colab_link": true
    },
    "kernelspec": {
      "name": "python3",
      "display_name": "Python 3"
    },
    "language_info": {
      "name": "python"
    }
  },
  "cells": [
    {
      "cell_type": "markdown",
      "metadata": {
        "id": "view-in-github",
        "colab_type": "text"
      },
      "source": [
        "<a href=\"https://colab.research.google.com/github/dansaavedra1103/data-science-projects/blob/main/Entrenamieto_de_embeddings.ipynb\" target=\"_parent\"><img src=\"https://colab.research.google.com/assets/colab-badge.svg\" alt=\"Open In Colab\"/></a>"
      ]
    },
    {
      "cell_type": "code",
      "execution_count": null,
      "metadata": {
        "id": "5daVvL_HIHfr"
      },
      "outputs": [],
      "source": [
        "import re, string\n",
        "import nltk"
      ]
    },
    {
      "cell_type": "code",
      "source": [
        "abre=open(\"nuevo_testamento_valera.txt\",encoding=\"UTF-8\")\n",
        "base=abre.read()\n",
        "##inicio y final\n",
        "inicio=\"HEBREO Y GRIEGO\"\n",
        "init=base.find(inicio)\n",
        "finale=base.find(\"The first pass\")\n",
        "base2=base[init+len(inicio):finale]\n",
        "##limpieza\n",
        "base2a = re.sub (\"\\n|\\t\",\" \",base2)\n",
        "base2b=re.sub(r\"[0-9]\",\"\",base2a)\n",
        "base2c=re.sub(r\" +\",\" \",base2b)\n",
        "##paso a minusculas\n",
        "base3=base2c.lower()\n",
        "base3[0:1000]\n"
      ],
      "metadata": {
        "colab": {
          "base_uri": "https://localhost:8080/",
          "height": 226
        },
        "id": "U4DuTLdtIUN1",
        "outputId": "4273cc7c-5270-44fd-d182-755e4f56efa6"
      },
      "execution_count": null,
      "outputs": [
        {
          "output_type": "execute_result",
          "data": {
            "text/plain": [
              "' capítulo en el principio era el verbo, y el verbo era con dios, y el verbo era dios. este era en el principio con dios. todas las cosas por él fueron hechas; y sin él nada de lo que es hecho, fué hecho. en él estaba la vida, y la vida era la luz de los hombres. y la luz en las tinieblas resplandece; mas las tinieblas no la comprendieron. fué un hombre enviado de dios, el cual se llamaba juan. este vino por testimonio, para que diese testimonio de la luz, para que todos creyesen por él. no era él la luz, sino para que diese testimonio de la luz. [aquél] era la luz verdadera, que alumbra á todo hombre que viene á este mundo. en el mundo estaba, y el mundo fué hecho por él; y el mundo no le conoció. a lo suyo vino, y los suyos no le recibieron. mas á todos los que le recibieron, dióles potestad de ser hechos hijos de dios, á los que creen en su nombre: los cuales no son engendrados de sangre, ni de voluntad de carne, ni de voluntad de varón, mas de dios. y aquel verbo fué hecho carne, y '"
            ],
            "application/vnd.google.colaboratory.intrinsic+json": {
              "type": "string"
            }
          },
          "metadata": {},
          "execution_count": 2
        }
      ]
    },
    {
      "cell_type": "code",
      "source": [
        "nltk.download(\"punkt\")\n",
        "basico=nltk.tokenize.sent_tokenize(base3,language=\"spanish\")\n",
        "#fichas2=nltk.tokenize.word_tokenize(base3,language=\"spanish\")\n",
        "#libro1=nltk.Text(fichas2)\n",
        "print(type(basico),len(basico))"
      ],
      "metadata": {
        "colab": {
          "base_uri": "https://localhost:8080/"
        },
        "id": "x1-qMJEuIuLD",
        "outputId": "23cb65ea-4663-42ee-f8cf-972195f67510"
      },
      "execution_count": null,
      "outputs": [
        {
          "output_type": "stream",
          "name": "stderr",
          "text": [
            "[nltk_data] Downloading package punkt to /root/nltk_data...\n",
            "[nltk_data]   Unzipping tokenizers/punkt.zip.\n"
          ]
        },
        {
          "output_type": "stream",
          "name": "stdout",
          "text": [
            "<class 'list'> 1392\n"
          ]
        }
      ]
    },
    {
      "cell_type": "code",
      "source": [
        "nltk.download(\"stopwords\")\n",
        "from nltk.corpus import stopwords\n",
        "misstop=stopwords.words(\"spanish\")+[\",\",\";\",\".\",\":\",\"á\",\"[\",\"]\",\"¿\",\"?\"]"
      ],
      "metadata": {
        "colab": {
          "base_uri": "https://localhost:8080/"
        },
        "id": "kyOjQ-dkKo-p",
        "outputId": "cf7d73e5-a23c-42eb-a546-5c6119ac5b98"
      },
      "execution_count": null,
      "outputs": [
        {
          "output_type": "stream",
          "name": "stderr",
          "text": [
            "[nltk_data] Downloading package stopwords to /root/nltk_data...\n",
            "[nltk_data]   Package stopwords is already up-to-date!\n"
          ]
        }
      ]
    },
    {
      "cell_type": "code",
      "source": [
        "sentencias=[]\n",
        "for element in basico:\n",
        "  temporal=nltk.tokenize.word_tokenize(element,language=\"spanish\")\n",
        "  filtra=[word for word in temporal if word not in misstop]\n",
        "  sentencias.append(filtra)\n",
        "sentencias[0:2]"
      ],
      "metadata": {
        "colab": {
          "base_uri": "https://localhost:8080/"
        },
        "id": "AImAV4IqJBjw",
        "outputId": "76a76478-941e-4469-e89d-1c5c03f07eb7"
      },
      "execution_count": null,
      "outputs": [
        {
          "output_type": "execute_result",
          "data": {
            "text/plain": [
              "[['capítulo', 'principio', 'verbo', 'verbo', 'dios', 'verbo', 'dios'],\n",
              " ['principio', 'dios']]"
            ]
          },
          "metadata": {},
          "execution_count": 23
        }
      ]
    },
    {
      "cell_type": "code",
      "source": [
        "import gensim\n",
        "from gensim.models import Word2Vec"
      ],
      "metadata": {
        "id": "AIvRc6mOJesu"
      },
      "execution_count": null,
      "outputs": []
    },
    {
      "cell_type": "code",
      "source": [
        "modelonuevo = Word2Vec(sentences=sentencias, vector_size=100, window=5, min_count=1, workers=4)"
      ],
      "metadata": {
        "id": "MucYXkGyJmF3"
      },
      "execution_count": null,
      "outputs": []
    },
    {
      "cell_type": "code",
      "source": [
        "modelonuevo.wv[\"dios\"]"
      ],
      "metadata": {
        "colab": {
          "base_uri": "https://localhost:8080/"
        },
        "id": "4zD5_gk-J6Gm",
        "outputId": "66b04b19-4383-4980-8547-ac58e266a81b"
      },
      "execution_count": null,
      "outputs": [
        {
          "output_type": "execute_result",
          "data": {
            "text/plain": [
              "array([-1.85717512e-02,  2.76800469e-02,  7.51862023e-03,  7.18487101e-03,\n",
              "        1.91027522e-02, -3.58629860e-02,  1.02687329e-02,  6.16844334e-02,\n",
              "       -2.42396090e-02, -1.00286985e-02, -1.97652224e-02, -4.36364077e-02,\n",
              "       -6.23497088e-03,  1.04077896e-02,  1.58520918e-02, -2.37658005e-02,\n",
              "        1.34681528e-02, -1.88719463e-02, -1.18023679e-02, -6.42475113e-02,\n",
              "        3.06954631e-03,  8.06117523e-03,  1.33629544e-02, -2.83274017e-02,\n",
              "       -8.57458683e-04,  1.29247701e-03, -9.96119529e-03, -1.17013454e-02,\n",
              "       -3.45273390e-02,  1.89936850e-02,  3.86668034e-02, -1.11790225e-02,\n",
              "        9.84047446e-03, -3.31563652e-02, -2.37305444e-02,  3.81938927e-02,\n",
              "       -4.80878633e-03, -1.98818538e-02, -1.48369651e-02, -5.87112308e-02,\n",
              "       -7.93689582e-03, -2.50874497e-02, -1.54710906e-02,  1.83601882e-02,\n",
              "        3.28453779e-02, -6.90631289e-03, -2.14070361e-02, -9.70104337e-03,\n",
              "        1.48234870e-02,  1.45608569e-02,  9.67005361e-03, -1.58326607e-02,\n",
              "       -1.32791027e-02, -7.22188409e-03, -2.39422321e-02,  4.24677273e-03,\n",
              "        9.11883544e-03, -8.72146245e-03, -3.25900726e-02,  1.15439333e-02,\n",
              "        1.73584465e-02,  7.02017546e-03, -2.27419962e-03,  4.16188501e-03,\n",
              "       -3.68706882e-02,  3.37348841e-02,  1.72119420e-02,  3.03411745e-02,\n",
              "       -4.08870690e-02,  3.38113867e-02, -1.33768413e-02,  1.71308182e-02,\n",
              "        2.47603767e-02, -7.40095088e-03,  3.05759534e-02,  2.60420442e-02,\n",
              "        1.37520758e-02,  5.07864123e-03, -2.77884584e-02,  7.26302760e-03,\n",
              "       -6.76157139e-03, -1.05739739e-02, -2.95760781e-02,  3.64633836e-02,\n",
              "        4.16416005e-05, -6.70461822e-03,  1.34418346e-02,  2.90723350e-02,\n",
              "        3.97287272e-02,  4.96477261e-03,  3.79737504e-02,  1.99811719e-02,\n",
              "        1.23194689e-02, -2.65333243e-03,  5.08312844e-02,  3.92514281e-02,\n",
              "        2.33810041e-02, -2.78003849e-02,  2.49030236e-02, -3.64955864e-03],\n",
              "      dtype=float32)"
            ]
          },
          "metadata": {},
          "execution_count": 25
        }
      ]
    },
    {
      "cell_type": "code",
      "source": [
        "modelonuevo.wv.most_similar(\"jesús\",topn=10)"
      ],
      "metadata": {
        "colab": {
          "base_uri": "https://localhost:8080/"
        },
        "id": "Uy6eZSYoKGZE",
        "outputId": "84a223e2-75e4-45ed-bab2-cfd17b79fc8d"
      },
      "execution_count": null,
      "outputs": [
        {
          "output_type": "execute_result",
          "data": {
            "text/plain": [
              "[('ley', 0.9517371654510498),\n",
              " ('mas', 0.951319694519043),\n",
              " ('dios', 0.9433715343475342),\n",
              " ('pecado', 0.941864013671875),\n",
              " ('mundo', 0.9306640028953552),\n",
              " ('padre', 0.9306257963180542),\n",
              " ('discípulos', 0.9227902293205261),\n",
              " ('si', 0.9214122891426086),\n",
              " ('cosas', 0.91844242811203),\n",
              " ('hijo', 0.9177685379981995)]"
            ]
          },
          "metadata": {},
          "execution_count": 29
        }
      ]
    }
  ]
}