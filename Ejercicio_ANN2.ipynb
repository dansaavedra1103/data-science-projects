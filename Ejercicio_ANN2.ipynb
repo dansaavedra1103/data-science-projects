{
  "nbformat": 4,
  "nbformat_minor": 0,
  "metadata": {
    "colab": {
      "provenance": [],
      "authorship_tag": "ABX9TyMyP1n3ymoacvaCTWhAyeQY",
      "include_colab_link": true
    },
    "kernelspec": {
      "name": "python3",
      "display_name": "Python 3"
    },
    "language_info": {
      "name": "python"
    }
  },
  "cells": [
    {
      "cell_type": "markdown",
      "metadata": {
        "id": "view-in-github",
        "colab_type": "text"
      },
      "source": [
        "<a href=\"https://colab.research.google.com/github/dansaavedra1103/data-science-projects/blob/main/Ejercicio_ANN2.ipynb\" target=\"_parent\"><img src=\"https://colab.research.google.com/assets/colab-badge.svg\" alt=\"Open In Colab\"/></a>"
      ]
    },
    {
      "cell_type": "code",
      "source": [
        "!pip install tensorflow"
      ],
      "metadata": {
        "id": "6WeHSxADO7e8"
      },
      "execution_count": null,
      "outputs": []
    },
    {
      "cell_type": "code",
      "execution_count": null,
      "metadata": {
        "id": "dpN5sPFVOz4E"
      },
      "outputs": [],
      "source": [
        "#Importación de librerias\n",
        "import tensorflow as tf\n",
        "from tensorflow import keras"
      ]
    },
    {
      "cell_type": "code",
      "source": [
        "fashion_mnist = keras.datasets.fashion_mnist\n",
        "(X_train_full, y_train_full),(X_test,y_test)= fashion_mnist.load_data()"
      ],
      "metadata": {
        "colab": {
          "base_uri": "https://localhost:8080/"
        },
        "id": "NfZvdM2RPAME",
        "outputId": "70b85d7c-01b1-4303-d275-e86634ebc050"
      },
      "execution_count": null,
      "outputs": [
        {
          "output_type": "stream",
          "name": "stdout",
          "text": [
            "Downloading data from https://storage.googleapis.com/tensorflow/tf-keras-datasets/train-labels-idx1-ubyte.gz\n",
            "29515/29515 [==============================] - 0s 0us/step\n",
            "Downloading data from https://storage.googleapis.com/tensorflow/tf-keras-datasets/train-images-idx3-ubyte.gz\n",
            "26421880/26421880 [==============================] - 0s 0us/step\n",
            "Downloading data from https://storage.googleapis.com/tensorflow/tf-keras-datasets/t10k-labels-idx1-ubyte.gz\n",
            "5148/5148 [==============================] - 0s 0us/step\n",
            "Downloading data from https://storage.googleapis.com/tensorflow/tf-keras-datasets/t10k-images-idx3-ubyte.gz\n",
            "4422102/4422102 [==============================] - 0s 0us/step\n"
          ]
        }
      ]
    },
    {
      "cell_type": "code",
      "source": [
        "x_valid, x_train = X_train_full[:5000]/255.0, X_train_full[5000:]/255.0\n",
        "y_valid,y_train=y_train_full[:5000],y_train_full[5000:]"
      ],
      "metadata": {
        "id": "NDgTMnnsPUSL"
      },
      "execution_count": null,
      "outputs": []
    },
    {
      "cell_type": "code",
      "source": [
        "class_names = [\"T-shirt/top\", \"Pants\", \"Sweater\", \"Dress\", \"Coat\",\n",
        "                       \"Sandal\", \"Shirt\", \"Sneakers\", \"Bag\", \"Boot\"]"
      ],
      "metadata": {
        "id": "uwx1bwIiPlLO"
      },
      "execution_count": null,
      "outputs": []
    },
    {
      "cell_type": "code",
      "source": [
        "#Armado de la red neuronal con diferentes pesos y funciones de activación\n",
        "model=keras.models.Sequential()\n",
        "model.add(keras.layers.Flatten(input_shape=[28,28]))\n",
        "model.add(keras.layers.Dense(300,activation=\"relu\"))\n",
        "model.add(keras.layers.Dense(100,activation=\"relu\"))\n",
        "model.add(keras.layers.Dense(10,activation=\"softmax\"))"
      ],
      "metadata": {
        "id": "PYNVHoaZQiZj"
      },
      "execution_count": null,
      "outputs": []
    },
    {
      "cell_type": "code",
      "source": [
        "model=keras.models.Sequential([\n",
        "    keras.layers.Flatten(input_shape=[28,28]),\n",
        "    keras.layers.Dense(300,activation=\"relu\"),\n",
        "    keras.layers.Dense(100,activation=\"relu\"),\n",
        "    keras.layers.Dense(10,activation=\"softmax\")\n",
        "])"
      ],
      "metadata": {
        "id": "Cgz9enWdRLDx"
      },
      "execution_count": null,
      "outputs": []
    },
    {
      "cell_type": "code",
      "source": [
        "model.layers"
      ],
      "metadata": {
        "colab": {
          "base_uri": "https://localhost:8080/"
        },
        "id": "Yk-HoXDaRxQp",
        "outputId": "41173fc4-b49c-4257-f4cb-5ca12057232a"
      },
      "execution_count": null,
      "outputs": [
        {
          "output_type": "execute_result",
          "data": {
            "text/plain": [
              "[<keras.src.layers.reshaping.flatten.Flatten at 0x7b42e2c399f0>,\n",
              " <keras.src.layers.core.dense.Dense at 0x7b42e2c3a200>,\n",
              " <keras.src.layers.core.dense.Dense at 0x7b42e2c3b8e0>,\n",
              " <keras.src.layers.core.dense.Dense at 0x7b42fed29420>]"
            ]
          },
          "metadata": {},
          "execution_count": 12
        }
      ]
    },
    {
      "cell_type": "code",
      "source": [
        "weights,biases=hidden1.get_weights()\n",
        "model.compile(loss=\"sparse_categorical_crossentropy\",\n",
        "              optimizer=\"sgd\",\n",
        "              metrics=[\"accuracy\"])\n",
        "history=model.fit(x_train,y_train,epochs=30,\n",
        "                  validation_data=(x_valid,y_valid))"
      ],
      "metadata": {
        "colab": {
          "base_uri": "https://localhost:8080/"
        },
        "id": "9fefiTUISOQb",
        "outputId": "ce79dfca-5c71-47ee-c764-563a563dde04"
      },
      "execution_count": null,
      "outputs": [
        {
          "output_type": "stream",
          "name": "stdout",
          "text": [
            "Epoch 1/30\n",
            "1719/1719 [==============================] - 15s 8ms/step - loss: 0.7330 - accuracy: 0.7583 - val_loss: 0.5058 - val_accuracy: 0.8346\n",
            "Epoch 2/30\n",
            "1719/1719 [==============================] - 11s 6ms/step - loss: 0.4896 - accuracy: 0.8275 - val_loss: 0.4495 - val_accuracy: 0.8464\n",
            "Epoch 3/30\n",
            "1719/1719 [==============================] - 9s 5ms/step - loss: 0.4459 - accuracy: 0.8426 - val_loss: 0.4210 - val_accuracy: 0.8572\n",
            "Epoch 4/30\n",
            "1719/1719 [==============================] - 10s 6ms/step - loss: 0.4193 - accuracy: 0.8531 - val_loss: 0.4148 - val_accuracy: 0.8584\n",
            "Epoch 5/30\n",
            "1719/1719 [==============================] - 10s 6ms/step - loss: 0.3989 - accuracy: 0.8611 - val_loss: 0.3880 - val_accuracy: 0.8672\n",
            "Epoch 6/30\n",
            "1719/1719 [==============================] - 10s 6ms/step - loss: 0.3831 - accuracy: 0.8655 - val_loss: 0.3922 - val_accuracy: 0.8648\n",
            "Epoch 7/30\n",
            "1719/1719 [==============================] - 10s 6ms/step - loss: 0.3685 - accuracy: 0.8706 - val_loss: 0.3704 - val_accuracy: 0.8716\n",
            "Epoch 8/30\n",
            "1719/1719 [==============================] - 10s 6ms/step - loss: 0.3569 - accuracy: 0.8746 - val_loss: 0.3585 - val_accuracy: 0.8748\n",
            "Epoch 9/30\n",
            "1719/1719 [==============================] - 10s 6ms/step - loss: 0.3461 - accuracy: 0.8764 - val_loss: 0.3449 - val_accuracy: 0.8804\n",
            "Epoch 10/30\n",
            "1719/1719 [==============================] - 10s 6ms/step - loss: 0.3356 - accuracy: 0.8812 - val_loss: 0.3579 - val_accuracy: 0.8770\n",
            "Epoch 11/30\n",
            "1719/1719 [==============================] - 10s 6ms/step - loss: 0.3272 - accuracy: 0.8838 - val_loss: 0.3385 - val_accuracy: 0.8836\n",
            "Epoch 12/30\n",
            "1719/1719 [==============================] - 9s 5ms/step - loss: 0.3213 - accuracy: 0.8853 - val_loss: 0.3405 - val_accuracy: 0.8816\n",
            "Epoch 13/30\n",
            "1719/1719 [==============================] - 10s 6ms/step - loss: 0.3127 - accuracy: 0.8875 - val_loss: 0.3369 - val_accuracy: 0.8812\n",
            "Epoch 14/30\n",
            "1719/1719 [==============================] - 10s 6ms/step - loss: 0.3069 - accuracy: 0.8891 - val_loss: 0.3461 - val_accuracy: 0.8804\n",
            "Epoch 15/30\n",
            "1719/1719 [==============================] - 10s 6ms/step - loss: 0.2991 - accuracy: 0.8935 - val_loss: 0.3238 - val_accuracy: 0.8864\n",
            "Epoch 16/30\n",
            "1719/1719 [==============================] - 9s 5ms/step - loss: 0.2936 - accuracy: 0.8946 - val_loss: 0.3318 - val_accuracy: 0.8796\n",
            "Epoch 17/30\n",
            "1719/1719 [==============================] - 10s 6ms/step - loss: 0.2872 - accuracy: 0.8964 - val_loss: 0.3122 - val_accuracy: 0.8910\n",
            "Epoch 18/30\n",
            "1719/1719 [==============================] - 10s 6ms/step - loss: 0.2821 - accuracy: 0.8988 - val_loss: 0.3302 - val_accuracy: 0.8826\n",
            "Epoch 19/30\n",
            "1719/1719 [==============================] - 10s 6ms/step - loss: 0.2772 - accuracy: 0.9007 - val_loss: 0.3197 - val_accuracy: 0.8846\n",
            "Epoch 20/30\n",
            "1719/1719 [==============================] - 9s 5ms/step - loss: 0.2726 - accuracy: 0.9026 - val_loss: 0.3109 - val_accuracy: 0.8908\n",
            "Epoch 21/30\n",
            "1719/1719 [==============================] - 9s 5ms/step - loss: 0.2665 - accuracy: 0.9044 - val_loss: 0.3104 - val_accuracy: 0.8874\n",
            "Epoch 22/30\n",
            "1719/1719 [==============================] - 10s 6ms/step - loss: 0.2631 - accuracy: 0.9045 - val_loss: 0.3078 - val_accuracy: 0.8930\n",
            "Epoch 23/30\n",
            "1719/1719 [==============================] - 10s 6ms/step - loss: 0.2579 - accuracy: 0.9073 - val_loss: 0.3108 - val_accuracy: 0.8878\n",
            "Epoch 24/30\n",
            "1719/1719 [==============================] - 8s 5ms/step - loss: 0.2543 - accuracy: 0.9088 - val_loss: 0.3053 - val_accuracy: 0.8906\n",
            "Epoch 25/30\n",
            "1719/1719 [==============================] - 10s 6ms/step - loss: 0.2495 - accuracy: 0.9108 - val_loss: 0.3193 - val_accuracy: 0.8850\n",
            "Epoch 26/30\n",
            "1719/1719 [==============================] - 10s 6ms/step - loss: 0.2455 - accuracy: 0.9118 - val_loss: 0.3057 - val_accuracy: 0.8880\n",
            "Epoch 27/30\n",
            "1719/1719 [==============================] - 9s 5ms/step - loss: 0.2418 - accuracy: 0.9118 - val_loss: 0.3007 - val_accuracy: 0.8952\n",
            "Epoch 28/30\n",
            "1719/1719 [==============================] - 9s 5ms/step - loss: 0.2373 - accuracy: 0.9145 - val_loss: 0.2978 - val_accuracy: 0.8962\n",
            "Epoch 29/30\n",
            "1719/1719 [==============================] - 10s 6ms/step - loss: 0.2339 - accuracy: 0.9160 - val_loss: 0.3120 - val_accuracy: 0.8916\n",
            "Epoch 30/30\n",
            "1719/1719 [==============================] - 10s 6ms/step - loss: 0.2298 - accuracy: 0.9174 - val_loss: 0.3097 - val_accuracy: 0.8896\n"
          ]
        }
      ]
    },
    {
      "cell_type": "code",
      "source": [
        "import pandas as pd\n",
        "import matplotlib.pyplot as plt"
      ],
      "metadata": {
        "id": "loYssJxMT5A2"
      },
      "execution_count": null,
      "outputs": []
    },
    {
      "cell_type": "markdown",
      "source": [],
      "metadata": {
        "id": "4r4lcbNDUM56"
      }
    },
    {
      "cell_type": "code",
      "source": [
        "pd.DataFrame(history.history).plot(figsize=(8,5))\n",
        "plt.grid(True)\n",
        "plt.gca().set_ylim(0,1)\n",
        "plt.show()"
      ],
      "metadata": {
        "colab": {
          "base_uri": "https://localhost:8080/",
          "height": 424
        },
        "id": "UV_-e8sET-AB",
        "outputId": "17858985-4387-427a-c8c1-57a77e83d00b"
      },
      "execution_count": null,
      "outputs": [
        {
          "output_type": "display_data",
          "data": {
            "text/plain": [
              "<Figure size 800x500 with 1 Axes>"
            ],
            "image/png": "[encoded data removed]"
          },
          "metadata": {}
        }
      ]
    }
  ]
}